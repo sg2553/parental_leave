{
 "cells": [
  {
   "cell_type": "code",
   "execution_count": 10,
   "metadata": {},
   "outputs": [],
   "source": [
    "import pandas as pd\n",
    "import plotly.express as px\n",
    "\n",
    "df = pd.read_excel('parental leave data.xlsx', index_col='index_col')"
   ]
  },
  {
   "cell_type": "code",
   "execution_count": 11,
   "metadata": {},
   "outputs": [
    {
     "data": {
      "text/html": [
       "<div>\n",
       "<style scoped>\n",
       "    .dataframe tbody tr th:only-of-type {\n",
       "        vertical-align: middle;\n",
       "    }\n",
       "\n",
       "    .dataframe tbody tr th {\n",
       "        vertical-align: top;\n",
       "    }\n",
       "\n",
       "    .dataframe thead th {\n",
       "        text-align: right;\n",
       "    }\n",
       "</style>\n",
       "<table border=\"1\" class=\"dataframe\">\n",
       "  <thead>\n",
       "    <tr style=\"text-align: right;\">\n",
       "      <th></th>\n",
       "      <th>firm</th>\n",
       "      <th>year</th>\n",
       "      <th>response</th>\n",
       "      <th>firm_type</th>\n",
       "      <th>primary_paid</th>\n",
       "      <th>clawback</th>\n",
       "      <th>secondary_paid</th>\n",
       "      <th>notes</th>\n",
       "    </tr>\n",
       "    <tr>\n",
       "      <th>index_col</th>\n",
       "      <th></th>\n",
       "      <th></th>\n",
       "      <th></th>\n",
       "      <th></th>\n",
       "      <th></th>\n",
       "      <th></th>\n",
       "      <th></th>\n",
       "      <th></th>\n",
       "    </tr>\n",
       "  </thead>\n",
       "  <tbody>\n",
       "    <tr>\n",
       "      <th>2022_aj_park</th>\n",
       "      <td>AJ Park</td>\n",
       "      <td>2022</td>\n",
       "      <td>yes</td>\n",
       "      <td>NaN</td>\n",
       "      <td>18</td>\n",
       "      <td>12.0</td>\n",
       "      <td>3.0</td>\n",
       "      <td>NaN</td>\n",
       "    </tr>\n",
       "    <tr>\n",
       "      <th>2022_anderson_lloyd</th>\n",
       "      <td>Anderson Lloyd</td>\n",
       "      <td>2022</td>\n",
       "      <td>yes</td>\n",
       "      <td>2.0</td>\n",
       "      <td>26</td>\n",
       "      <td>12.0</td>\n",
       "      <td>4.0</td>\n",
       "      <td>NaN</td>\n",
       "    </tr>\n",
       "    <tr>\n",
       "      <th>2022_anthony_harper</th>\n",
       "      <td>Anthony Harper</td>\n",
       "      <td>2022</td>\n",
       "      <td>yes</td>\n",
       "      <td>3.0</td>\n",
       "      <td>9</td>\n",
       "      <td>0.0</td>\n",
       "      <td>2.0</td>\n",
       "      <td>NaN</td>\n",
       "    </tr>\n",
       "    <tr>\n",
       "      <th>2022_bell_gully</th>\n",
       "      <td>Bell Gully</td>\n",
       "      <td>2022</td>\n",
       "      <td>yes</td>\n",
       "      <td>1.0</td>\n",
       "      <td>18</td>\n",
       "      <td>3.0</td>\n",
       "      <td>2.0</td>\n",
       "      <td>NaN</td>\n",
       "    </tr>\n",
       "    <tr>\n",
       "      <th>2022_buddle_findlay</th>\n",
       "      <td>Buddle Findlay</td>\n",
       "      <td>2022</td>\n",
       "      <td>yes</td>\n",
       "      <td>1.0</td>\n",
       "      <td>13</td>\n",
       "      <td>12.0</td>\n",
       "      <td>0.0</td>\n",
       "      <td>unless secondary caregiver becomes primary car...</td>\n",
       "    </tr>\n",
       "    <tr>\n",
       "      <th>2022_chapman_tripp</th>\n",
       "      <td>Chapman Tripp</td>\n",
       "      <td>2022</td>\n",
       "      <td>yes</td>\n",
       "      <td>1.0</td>\n",
       "      <td>26</td>\n",
       "      <td>NaN</td>\n",
       "      <td>NaN</td>\n",
       "      <td>NaN</td>\n",
       "    </tr>\n",
       "    <tr>\n",
       "      <th>2022_davenports</th>\n",
       "      <td>Davenports</td>\n",
       "      <td>2022</td>\n",
       "      <td>no</td>\n",
       "      <td>NaN</td>\n",
       "      <td>NaN</td>\n",
       "      <td>NaN</td>\n",
       "      <td>NaN</td>\n",
       "      <td>NaN</td>\n",
       "    </tr>\n",
       "    <tr>\n",
       "      <th>2022_dentons_kensington_swan</th>\n",
       "      <td>Dentons Kensington Swan</td>\n",
       "      <td>2022</td>\n",
       "      <td>yes</td>\n",
       "      <td>1.0</td>\n",
       "      <td>18</td>\n",
       "      <td>24.0</td>\n",
       "      <td>3.0</td>\n",
       "      <td>NaN</td>\n",
       "    </tr>\n",
       "    <tr>\n",
       "      <th>2022_dla_piper</th>\n",
       "      <td>DLA piper</td>\n",
       "      <td>2022</td>\n",
       "      <td>yes</td>\n",
       "      <td>1.0</td>\n",
       "      <td>26</td>\n",
       "      <td>0.0</td>\n",
       "      <td>4.0</td>\n",
       "      <td>NaN</td>\n",
       "    </tr>\n",
       "    <tr>\n",
       "      <th>2022_duncan_cotterill</th>\n",
       "      <td>Duncan Cotterill</td>\n",
       "      <td>2022</td>\n",
       "      <td>yes</td>\n",
       "      <td>NaN</td>\n",
       "      <td>15</td>\n",
       "      <td>12.0</td>\n",
       "      <td>2.0</td>\n",
       "      <td>NaN</td>\n",
       "    </tr>\n",
       "    <tr>\n",
       "      <th>2022_gilbert_walker</th>\n",
       "      <td>Gilbert Walker</td>\n",
       "      <td>2022</td>\n",
       "      <td>no</td>\n",
       "      <td>NaN</td>\n",
       "      <td>NaN</td>\n",
       "      <td>NaN</td>\n",
       "      <td>NaN</td>\n",
       "      <td>NaN</td>\n",
       "    </tr>\n",
       "    <tr>\n",
       "      <th>2022_glaistor_ennor</th>\n",
       "      <td>Glaistor Ennor</td>\n",
       "      <td>2022</td>\n",
       "      <td>no</td>\n",
       "      <td>NaN</td>\n",
       "      <td>NaN</td>\n",
       "      <td>NaN</td>\n",
       "      <td>NaN</td>\n",
       "      <td>NaN</td>\n",
       "    </tr>\n",
       "    <tr>\n",
       "      <th>2022_greenwood_roche</th>\n",
       "      <td>Greenwood Roche</td>\n",
       "      <td>2022</td>\n",
       "      <td>no</td>\n",
       "      <td>NaN</td>\n",
       "      <td>NaN</td>\n",
       "      <td>NaN</td>\n",
       "      <td>NaN</td>\n",
       "      <td>NaN</td>\n",
       "    </tr>\n",
       "    <tr>\n",
       "      <th>2022_grimshaw_&amp;_co</th>\n",
       "      <td>Grimshaw &amp; Co</td>\n",
       "      <td>2022</td>\n",
       "      <td>no</td>\n",
       "      <td>NaN</td>\n",
       "      <td>NaN</td>\n",
       "      <td>NaN</td>\n",
       "      <td>NaN</td>\n",
       "      <td>NaN</td>\n",
       "    </tr>\n",
       "    <tr>\n",
       "      <th>2022_haigh_lyon</th>\n",
       "      <td>Haigh Lyon</td>\n",
       "      <td>2022</td>\n",
       "      <td>yes</td>\n",
       "      <td>NaN</td>\n",
       "      <td>0</td>\n",
       "      <td>NaN</td>\n",
       "      <td>NaN</td>\n",
       "      <td>NaN</td>\n",
       "    </tr>\n",
       "    <tr>\n",
       "      <th>2022_harmon_horton_lusk</th>\n",
       "      <td>Harmon Horton Lusk</td>\n",
       "      <td>2022</td>\n",
       "      <td>no</td>\n",
       "      <td>NaN</td>\n",
       "      <td>NaN</td>\n",
       "      <td>NaN</td>\n",
       "      <td>NaN</td>\n",
       "      <td>NaN</td>\n",
       "    </tr>\n",
       "    <tr>\n",
       "      <th>2022_hesketh_henry</th>\n",
       "      <td>Hesketh Henry</td>\n",
       "      <td>2022</td>\n",
       "      <td>yes</td>\n",
       "      <td>NaN</td>\n",
       "      <td>4</td>\n",
       "      <td>0.0</td>\n",
       "      <td>1.0</td>\n",
       "      <td>NaN</td>\n",
       "    </tr>\n",
       "    <tr>\n",
       "      <th>2022_hudson_gavin_martin</th>\n",
       "      <td>Hudson Gavin Martin</td>\n",
       "      <td>2022</td>\n",
       "      <td>no</td>\n",
       "      <td>NaN</td>\n",
       "      <td>yes</td>\n",
       "      <td>NaN</td>\n",
       "      <td>NaN</td>\n",
       "      <td>all details noted as ‘commercially sensitive’</td>\n",
       "    </tr>\n",
       "    <tr>\n",
       "      <th>2022_lane_neave</th>\n",
       "      <td>Lane Neave</td>\n",
       "      <td>2022</td>\n",
       "      <td>no</td>\n",
       "      <td>NaN</td>\n",
       "      <td>NaN</td>\n",
       "      <td>NaN</td>\n",
       "      <td>NaN</td>\n",
       "      <td>NaN</td>\n",
       "    </tr>\n",
       "    <tr>\n",
       "      <th>2022_lee_salmon_long</th>\n",
       "      <td>Lee Salmon Long</td>\n",
       "      <td>2022</td>\n",
       "      <td>no</td>\n",
       "      <td>NaN</td>\n",
       "      <td>NaN</td>\n",
       "      <td>NaN</td>\n",
       "      <td>NaN</td>\n",
       "      <td>NaN</td>\n",
       "    </tr>\n",
       "    <tr>\n",
       "      <th>2022_lowndes_jordan</th>\n",
       "      <td>Lowndes Jordan</td>\n",
       "      <td>2022</td>\n",
       "      <td>no</td>\n",
       "      <td>NaN</td>\n",
       "      <td>NaN</td>\n",
       "      <td>NaN</td>\n",
       "      <td>NaN</td>\n",
       "      <td>NaN</td>\n",
       "    </tr>\n",
       "    <tr>\n",
       "      <th>2022_martelli_mckegg</th>\n",
       "      <td>Martelli McKegg</td>\n",
       "      <td>2022</td>\n",
       "      <td>no</td>\n",
       "      <td>NaN</td>\n",
       "      <td>NaN</td>\n",
       "      <td>NaN</td>\n",
       "      <td>NaN</td>\n",
       "      <td>NaN</td>\n",
       "    </tr>\n",
       "    <tr>\n",
       "      <th>2022_mayne_wetherll</th>\n",
       "      <td>Mayne Wetherll</td>\n",
       "      <td>2022</td>\n",
       "      <td>no</td>\n",
       "      <td>NaN</td>\n",
       "      <td>NaN</td>\n",
       "      <td>NaN</td>\n",
       "      <td>NaN</td>\n",
       "      <td>NaN</td>\n",
       "    </tr>\n",
       "    <tr>\n",
       "      <th>2022_mcveagh_fleming</th>\n",
       "      <td>McVeagh Fleming</td>\n",
       "      <td>2022</td>\n",
       "      <td>yes</td>\n",
       "      <td>NaN</td>\n",
       "      <td>0</td>\n",
       "      <td>NaN</td>\n",
       "      <td>0.0</td>\n",
       "      <td>NaN</td>\n",
       "    </tr>\n",
       "    <tr>\n",
       "      <th>2022_meredith_connell</th>\n",
       "      <td>Meredith Connell</td>\n",
       "      <td>2022</td>\n",
       "      <td>yes</td>\n",
       "      <td>NaN</td>\n",
       "      <td>26</td>\n",
       "      <td>6.0</td>\n",
       "      <td>2.0</td>\n",
       "      <td>NaN</td>\n",
       "    </tr>\n",
       "    <tr>\n",
       "      <th>2022_minter_ellison_rudd_watts</th>\n",
       "      <td>Minter Ellison Rudd Watts</td>\n",
       "      <td>2022</td>\n",
       "      <td>yes</td>\n",
       "      <td>NaN</td>\n",
       "      <td>26</td>\n",
       "      <td>12.0</td>\n",
       "      <td>2.0</td>\n",
       "      <td>NaN</td>\n",
       "    </tr>\n",
       "    <tr>\n",
       "      <th>2022_morris_legal</th>\n",
       "      <td>Morris Legal</td>\n",
       "      <td>2022</td>\n",
       "      <td>no</td>\n",
       "      <td>NaN</td>\n",
       "      <td>NaN</td>\n",
       "      <td>NaN</td>\n",
       "      <td>NaN</td>\n",
       "      <td>NaN</td>\n",
       "    </tr>\n",
       "    <tr>\n",
       "      <th>2022_rice_spier</th>\n",
       "      <td>Rice Spier</td>\n",
       "      <td>2022</td>\n",
       "      <td>no</td>\n",
       "      <td>NaN</td>\n",
       "      <td>NaN</td>\n",
       "      <td>NaN</td>\n",
       "      <td>NaN</td>\n",
       "      <td>NaN</td>\n",
       "    </tr>\n",
       "    <tr>\n",
       "      <th>2022_russell_mcveagh</th>\n",
       "      <td>Russell McVeagh</td>\n",
       "      <td>2022</td>\n",
       "      <td>yes</td>\n",
       "      <td>NaN</td>\n",
       "      <td>26</td>\n",
       "      <td>0.0</td>\n",
       "      <td>4.0</td>\n",
       "      <td>NaN</td>\n",
       "    </tr>\n",
       "    <tr>\n",
       "      <th>2022_simpson_grierson</th>\n",
       "      <td>Simpson Grierson</td>\n",
       "      <td>2022</td>\n",
       "      <td>yes</td>\n",
       "      <td>NaN</td>\n",
       "      <td>26</td>\n",
       "      <td>12.0</td>\n",
       "      <td>2.0</td>\n",
       "      <td>NaN</td>\n",
       "    </tr>\n",
       "    <tr>\n",
       "      <th>2022_tompkins_wake</th>\n",
       "      <td>Tompkins Wake</td>\n",
       "      <td>2022</td>\n",
       "      <td>no</td>\n",
       "      <td>NaN</td>\n",
       "      <td>NaN</td>\n",
       "      <td>NaN</td>\n",
       "      <td>NaN</td>\n",
       "      <td>NaN</td>\n",
       "    </tr>\n",
       "    <tr>\n",
       "      <th>2022_turner_hopkins</th>\n",
       "      <td>Turner Hopkins</td>\n",
       "      <td>2022</td>\n",
       "      <td>no</td>\n",
       "      <td>NaN</td>\n",
       "      <td>NaN</td>\n",
       "      <td>NaN</td>\n",
       "      <td>NaN</td>\n",
       "      <td>NaN</td>\n",
       "    </tr>\n",
       "    <tr>\n",
       "      <th>2022_wilson_harle</th>\n",
       "      <td>Wilson Harle</td>\n",
       "      <td>2022</td>\n",
       "      <td>no</td>\n",
       "      <td>NaN</td>\n",
       "      <td>NaN</td>\n",
       "      <td>NaN</td>\n",
       "      <td>NaN</td>\n",
       "      <td>NaN</td>\n",
       "    </tr>\n",
       "    <tr>\n",
       "      <th>2022_wynn_williams</th>\n",
       "      <td>Wynn Williams</td>\n",
       "      <td>2022</td>\n",
       "      <td>no</td>\n",
       "      <td>NaN</td>\n",
       "      <td>NaN</td>\n",
       "      <td>NaN</td>\n",
       "      <td>NaN</td>\n",
       "      <td>NaN</td>\n",
       "    </tr>\n",
       "    <tr>\n",
       "      <th>2022_kindrik_partners</th>\n",
       "      <td>Kindrik Partners</td>\n",
       "      <td>2022</td>\n",
       "      <td>yes</td>\n",
       "      <td>3.0</td>\n",
       "      <td>13</td>\n",
       "      <td>24.0</td>\n",
       "      <td>NaN</td>\n",
       "      <td>NaN</td>\n",
       "    </tr>\n",
       "  </tbody>\n",
       "</table>\n",
       "</div>"
      ],
      "text/plain": [
       "                                                     firm  year response  \\\n",
       "index_col                                                                  \n",
       "2022_aj_park                                      AJ Park  2022      yes   \n",
       "2022_anderson_lloyd                        Anderson Lloyd  2022      yes   \n",
       "2022_anthony_harper                        Anthony Harper  2022      yes   \n",
       "2022_bell_gully                                Bell Gully  2022      yes   \n",
       "2022_buddle_findlay                        Buddle Findlay  2022      yes   \n",
       "2022_chapman_tripp                          Chapman Tripp  2022      yes   \n",
       "2022_davenports                                Davenports  2022       no   \n",
       "2022_dentons_kensington_swan      Dentons Kensington Swan  2022      yes   \n",
       "2022_dla_piper                                  DLA piper  2022      yes   \n",
       "2022_duncan_cotterill                    Duncan Cotterill  2022      yes   \n",
       "2022_gilbert_walker                        Gilbert Walker  2022       no   \n",
       "2022_glaistor_ennor                        Glaistor Ennor  2022       no   \n",
       "2022_greenwood_roche                      Greenwood Roche  2022       no   \n",
       "2022_grimshaw_&_co                          Grimshaw & Co  2022       no   \n",
       "2022_haigh_lyon                                Haigh Lyon  2022      yes   \n",
       "2022_harmon_horton_lusk                Harmon Horton Lusk  2022       no   \n",
       "2022_hesketh_henry                          Hesketh Henry  2022      yes   \n",
       "2022_hudson_gavin_martin              Hudson Gavin Martin  2022       no   \n",
       "2022_lane_neave                                Lane Neave  2022       no   \n",
       "2022_lee_salmon_long                      Lee Salmon Long  2022       no   \n",
       "2022_lowndes_jordan                        Lowndes Jordan  2022       no   \n",
       "2022_martelli_mckegg                      Martelli McKegg  2022       no   \n",
       "2022_mayne_wetherll                        Mayne Wetherll  2022       no   \n",
       "2022_mcveagh_fleming                      McVeagh Fleming  2022      yes   \n",
       "2022_meredith_connell                    Meredith Connell  2022      yes   \n",
       "2022_minter_ellison_rudd_watts  Minter Ellison Rudd Watts  2022      yes   \n",
       "2022_morris_legal                            Morris Legal  2022       no   \n",
       "2022_rice_spier                                Rice Spier  2022       no   \n",
       "2022_russell_mcveagh                      Russell McVeagh  2022      yes   \n",
       "2022_simpson_grierson                    Simpson Grierson  2022      yes   \n",
       "2022_tompkins_wake                          Tompkins Wake  2022       no   \n",
       "2022_turner_hopkins                        Turner Hopkins  2022       no   \n",
       "2022_wilson_harle                            Wilson Harle  2022       no   \n",
       "2022_wynn_williams                          Wynn Williams  2022       no   \n",
       "2022_kindrik_partners                    Kindrik Partners  2022      yes   \n",
       "\n",
       "                                firm_type primary_paid  clawback  \\\n",
       "index_col                                                          \n",
       "2022_aj_park                          NaN           18      12.0   \n",
       "2022_anderson_lloyd                   2.0           26      12.0   \n",
       "2022_anthony_harper                   3.0            9       0.0   \n",
       "2022_bell_gully                       1.0           18       3.0   \n",
       "2022_buddle_findlay                   1.0           13      12.0   \n",
       "2022_chapman_tripp                    1.0           26       NaN   \n",
       "2022_davenports                       NaN          NaN       NaN   \n",
       "2022_dentons_kensington_swan          1.0           18      24.0   \n",
       "2022_dla_piper                        1.0           26       0.0   \n",
       "2022_duncan_cotterill                 NaN           15      12.0   \n",
       "2022_gilbert_walker                   NaN          NaN       NaN   \n",
       "2022_glaistor_ennor                   NaN          NaN       NaN   \n",
       "2022_greenwood_roche                  NaN          NaN       NaN   \n",
       "2022_grimshaw_&_co                    NaN          NaN       NaN   \n",
       "2022_haigh_lyon                       NaN            0       NaN   \n",
       "2022_harmon_horton_lusk               NaN          NaN       NaN   \n",
       "2022_hesketh_henry                    NaN            4       0.0   \n",
       "2022_hudson_gavin_martin              NaN          yes       NaN   \n",
       "2022_lane_neave                       NaN          NaN       NaN   \n",
       "2022_lee_salmon_long                  NaN          NaN       NaN   \n",
       "2022_lowndes_jordan                   NaN          NaN       NaN   \n",
       "2022_martelli_mckegg                  NaN          NaN       NaN   \n",
       "2022_mayne_wetherll                   NaN          NaN       NaN   \n",
       "2022_mcveagh_fleming                  NaN            0       NaN   \n",
       "2022_meredith_connell                 NaN           26       6.0   \n",
       "2022_minter_ellison_rudd_watts        NaN           26      12.0   \n",
       "2022_morris_legal                     NaN          NaN       NaN   \n",
       "2022_rice_spier                       NaN          NaN       NaN   \n",
       "2022_russell_mcveagh                  NaN           26       0.0   \n",
       "2022_simpson_grierson                 NaN           26      12.0   \n",
       "2022_tompkins_wake                    NaN          NaN       NaN   \n",
       "2022_turner_hopkins                   NaN          NaN       NaN   \n",
       "2022_wilson_harle                     NaN          NaN       NaN   \n",
       "2022_wynn_williams                    NaN          NaN       NaN   \n",
       "2022_kindrik_partners                 3.0           13      24.0   \n",
       "\n",
       "                                secondary_paid  \\\n",
       "index_col                                        \n",
       "2022_aj_park                               3.0   \n",
       "2022_anderson_lloyd                        4.0   \n",
       "2022_anthony_harper                        2.0   \n",
       "2022_bell_gully                            2.0   \n",
       "2022_buddle_findlay                        0.0   \n",
       "2022_chapman_tripp                         NaN   \n",
       "2022_davenports                            NaN   \n",
       "2022_dentons_kensington_swan               3.0   \n",
       "2022_dla_piper                             4.0   \n",
       "2022_duncan_cotterill                      2.0   \n",
       "2022_gilbert_walker                        NaN   \n",
       "2022_glaistor_ennor                        NaN   \n",
       "2022_greenwood_roche                       NaN   \n",
       "2022_grimshaw_&_co                         NaN   \n",
       "2022_haigh_lyon                            NaN   \n",
       "2022_harmon_horton_lusk                    NaN   \n",
       "2022_hesketh_henry                         1.0   \n",
       "2022_hudson_gavin_martin                   NaN   \n",
       "2022_lane_neave                            NaN   \n",
       "2022_lee_salmon_long                       NaN   \n",
       "2022_lowndes_jordan                        NaN   \n",
       "2022_martelli_mckegg                       NaN   \n",
       "2022_mayne_wetherll                        NaN   \n",
       "2022_mcveagh_fleming                       0.0   \n",
       "2022_meredith_connell                      2.0   \n",
       "2022_minter_ellison_rudd_watts             2.0   \n",
       "2022_morris_legal                          NaN   \n",
       "2022_rice_spier                            NaN   \n",
       "2022_russell_mcveagh                       4.0   \n",
       "2022_simpson_grierson                      2.0   \n",
       "2022_tompkins_wake                         NaN   \n",
       "2022_turner_hopkins                        NaN   \n",
       "2022_wilson_harle                          NaN   \n",
       "2022_wynn_williams                         NaN   \n",
       "2022_kindrik_partners                      NaN   \n",
       "\n",
       "                                                                            notes  \n",
       "index_col                                                                          \n",
       "2022_aj_park                                                                  NaN  \n",
       "2022_anderson_lloyd                                                           NaN  \n",
       "2022_anthony_harper                                                           NaN  \n",
       "2022_bell_gully                                                               NaN  \n",
       "2022_buddle_findlay             unless secondary caregiver becomes primary car...  \n",
       "2022_chapman_tripp                                                            NaN  \n",
       "2022_davenports                                                               NaN  \n",
       "2022_dentons_kensington_swan                                                  NaN  \n",
       "2022_dla_piper                                                                NaN  \n",
       "2022_duncan_cotterill                                                         NaN  \n",
       "2022_gilbert_walker                                                           NaN  \n",
       "2022_glaistor_ennor                                                           NaN  \n",
       "2022_greenwood_roche                                                          NaN  \n",
       "2022_grimshaw_&_co                                                            NaN  \n",
       "2022_haigh_lyon                                                               NaN  \n",
       "2022_harmon_horton_lusk                                                       NaN  \n",
       "2022_hesketh_henry                                                            NaN  \n",
       "2022_hudson_gavin_martin            all details noted as ‘commercially sensitive’  \n",
       "2022_lane_neave                                                               NaN  \n",
       "2022_lee_salmon_long                                                          NaN  \n",
       "2022_lowndes_jordan                                                           NaN  \n",
       "2022_martelli_mckegg                                                          NaN  \n",
       "2022_mayne_wetherll                                                           NaN  \n",
       "2022_mcveagh_fleming                                                          NaN  \n",
       "2022_meredith_connell                                                         NaN  \n",
       "2022_minter_ellison_rudd_watts                                                NaN  \n",
       "2022_morris_legal                                                             NaN  \n",
       "2022_rice_spier                                                               NaN  \n",
       "2022_russell_mcveagh                                                          NaN  \n",
       "2022_simpson_grierson                                                         NaN  \n",
       "2022_tompkins_wake                                                            NaN  \n",
       "2022_turner_hopkins                                                           NaN  \n",
       "2022_wilson_harle                                                             NaN  \n",
       "2022_wynn_williams                                                            NaN  \n",
       "2022_kindrik_partners                                                         NaN  "
      ]
     },
     "execution_count": 11,
     "metadata": {},
     "output_type": "execute_result"
    }
   ],
   "source": [
    "df"
   ]
  },
  {
   "cell_type": "code",
   "execution_count": 13,
   "metadata": {},
   "outputs": [
    {
     "data": {
      "application/vnd.plotly.v1+json": {
       "config": {
        "plotlyServerURL": "https://plot.ly"
       },
       "data": [
        {
         "alignmentgroup": "True",
         "customdata": [
          [
           "Anderson Lloyd"
          ]
         ],
         "hovertemplate": "firm_type=%{x}<br>primary_paid=%{y}<br>firm=%{customdata[0]}<extra></extra>",
         "legendgroup": "2.0",
         "marker": {
          "color": "#EF553B"
         },
         "name": "2.0",
         "notched": false,
         "offsetgroup": "2.0",
         "orientation": "h",
         "showlegend": true,
         "type": "box",
         "x": [
          2
         ],
         "x0": " ",
         "xaxis": "x",
         "y": [
          26
         ],
         "y0": " ",
         "yaxis": "y"
        },
        {
         "alignmentgroup": "True",
         "customdata": [
          [
           "Anthony Harper"
          ],
          [
           "Kindrik Partners"
          ]
         ],
         "hovertemplate": "firm_type=%{x}<br>primary_paid=%{y}<br>firm=%{customdata[0]}<extra></extra>",
         "legendgroup": "3.0",
         "marker": {
          "color": "#00cc96"
         },
         "name": "3.0",
         "notched": false,
         "offsetgroup": "3.0",
         "orientation": "h",
         "showlegend": true,
         "type": "box",
         "x": [
          3,
          3
         ],
         "x0": " ",
         "xaxis": "x",
         "y": [
          9,
          13
         ],
         "y0": " ",
         "yaxis": "y"
        },
        {
         "alignmentgroup": "True",
         "customdata": [
          [
           "Bell Gully"
          ],
          [
           "Buddle Findlay"
          ],
          [
           "Chapman Tripp"
          ],
          [
           "Dentons Kensington Swan"
          ],
          [
           "DLA piper"
          ]
         ],
         "hovertemplate": "firm_type=%{x}<br>primary_paid=%{y}<br>firm=%{customdata[0]}<extra></extra>",
         "legendgroup": "1.0",
         "marker": {
          "color": "#ab63fa"
         },
         "name": "1.0",
         "notched": false,
         "offsetgroup": "1.0",
         "orientation": "h",
         "showlegend": true,
         "type": "box",
         "x": [
          1,
          1,
          1,
          1,
          1
         ],
         "x0": " ",
         "xaxis": "x",
         "y": [
          18,
          13,
          26,
          18,
          26
         ],
         "y0": " ",
         "yaxis": "y"
        }
       ],
       "layout": {
        "boxmode": "group",
        "legend": {
         "title": {
          "text": "firm_type"
         },
         "tracegroupgap": 0
        },
        "template": {
         "data": {
          "bar": [
           {
            "error_x": {
             "color": "#2a3f5f"
            },
            "error_y": {
             "color": "#2a3f5f"
            },
            "marker": {
             "line": {
              "color": "#E5ECF6",
              "width": 0.5
             },
             "pattern": {
              "fillmode": "overlay",
              "size": 10,
              "solidity": 0.2
             }
            },
            "type": "bar"
           }
          ],
          "barpolar": [
           {
            "marker": {
             "line": {
              "color": "#E5ECF6",
              "width": 0.5
             },
             "pattern": {
              "fillmode": "overlay",
              "size": 10,
              "solidity": 0.2
             }
            },
            "type": "barpolar"
           }
          ],
          "carpet": [
           {
            "aaxis": {
             "endlinecolor": "#2a3f5f",
             "gridcolor": "white",
             "linecolor": "white",
             "minorgridcolor": "white",
             "startlinecolor": "#2a3f5f"
            },
            "baxis": {
             "endlinecolor": "#2a3f5f",
             "gridcolor": "white",
             "linecolor": "white",
             "minorgridcolor": "white",
             "startlinecolor": "#2a3f5f"
            },
            "type": "carpet"
           }
          ],
          "choropleth": [
           {
            "colorbar": {
             "outlinewidth": 0,
             "ticks": ""
            },
            "type": "choropleth"
           }
          ],
          "contour": [
           {
            "colorbar": {
             "outlinewidth": 0,
             "ticks": ""
            },
            "colorscale": [
             [
              0,
              "#0d0887"
             ],
             [
              0.1111111111111111,
              "#46039f"
             ],
             [
              0.2222222222222222,
              "#7201a8"
             ],
             [
              0.3333333333333333,
              "#9c179e"
             ],
             [
              0.4444444444444444,
              "#bd3786"
             ],
             [
              0.5555555555555556,
              "#d8576b"
             ],
             [
              0.6666666666666666,
              "#ed7953"
             ],
             [
              0.7777777777777778,
              "#fb9f3a"
             ],
             [
              0.8888888888888888,
              "#fdca26"
             ],
             [
              1,
              "#f0f921"
             ]
            ],
            "type": "contour"
           }
          ],
          "contourcarpet": [
           {
            "colorbar": {
             "outlinewidth": 0,
             "ticks": ""
            },
            "type": "contourcarpet"
           }
          ],
          "heatmap": [
           {
            "colorbar": {
             "outlinewidth": 0,
             "ticks": ""
            },
            "colorscale": [
             [
              0,
              "#0d0887"
             ],
             [
              0.1111111111111111,
              "#46039f"
             ],
             [
              0.2222222222222222,
              "#7201a8"
             ],
             [
              0.3333333333333333,
              "#9c179e"
             ],
             [
              0.4444444444444444,
              "#bd3786"
             ],
             [
              0.5555555555555556,
              "#d8576b"
             ],
             [
              0.6666666666666666,
              "#ed7953"
             ],
             [
              0.7777777777777778,
              "#fb9f3a"
             ],
             [
              0.8888888888888888,
              "#fdca26"
             ],
             [
              1,
              "#f0f921"
             ]
            ],
            "type": "heatmap"
           }
          ],
          "heatmapgl": [
           {
            "colorbar": {
             "outlinewidth": 0,
             "ticks": ""
            },
            "colorscale": [
             [
              0,
              "#0d0887"
             ],
             [
              0.1111111111111111,
              "#46039f"
             ],
             [
              0.2222222222222222,
              "#7201a8"
             ],
             [
              0.3333333333333333,
              "#9c179e"
             ],
             [
              0.4444444444444444,
              "#bd3786"
             ],
             [
              0.5555555555555556,
              "#d8576b"
             ],
             [
              0.6666666666666666,
              "#ed7953"
             ],
             [
              0.7777777777777778,
              "#fb9f3a"
             ],
             [
              0.8888888888888888,
              "#fdca26"
             ],
             [
              1,
              "#f0f921"
             ]
            ],
            "type": "heatmapgl"
           }
          ],
          "histogram": [
           {
            "marker": {
             "pattern": {
              "fillmode": "overlay",
              "size": 10,
              "solidity": 0.2
             }
            },
            "type": "histogram"
           }
          ],
          "histogram2d": [
           {
            "colorbar": {
             "outlinewidth": 0,
             "ticks": ""
            },
            "colorscale": [
             [
              0,
              "#0d0887"
             ],
             [
              0.1111111111111111,
              "#46039f"
             ],
             [
              0.2222222222222222,
              "#7201a8"
             ],
             [
              0.3333333333333333,
              "#9c179e"
             ],
             [
              0.4444444444444444,
              "#bd3786"
             ],
             [
              0.5555555555555556,
              "#d8576b"
             ],
             [
              0.6666666666666666,
              "#ed7953"
             ],
             [
              0.7777777777777778,
              "#fb9f3a"
             ],
             [
              0.8888888888888888,
              "#fdca26"
             ],
             [
              1,
              "#f0f921"
             ]
            ],
            "type": "histogram2d"
           }
          ],
          "histogram2dcontour": [
           {
            "colorbar": {
             "outlinewidth": 0,
             "ticks": ""
            },
            "colorscale": [
             [
              0,
              "#0d0887"
             ],
             [
              0.1111111111111111,
              "#46039f"
             ],
             [
              0.2222222222222222,
              "#7201a8"
             ],
             [
              0.3333333333333333,
              "#9c179e"
             ],
             [
              0.4444444444444444,
              "#bd3786"
             ],
             [
              0.5555555555555556,
              "#d8576b"
             ],
             [
              0.6666666666666666,
              "#ed7953"
             ],
             [
              0.7777777777777778,
              "#fb9f3a"
             ],
             [
              0.8888888888888888,
              "#fdca26"
             ],
             [
              1,
              "#f0f921"
             ]
            ],
            "type": "histogram2dcontour"
           }
          ],
          "mesh3d": [
           {
            "colorbar": {
             "outlinewidth": 0,
             "ticks": ""
            },
            "type": "mesh3d"
           }
          ],
          "parcoords": [
           {
            "line": {
             "colorbar": {
              "outlinewidth": 0,
              "ticks": ""
             }
            },
            "type": "parcoords"
           }
          ],
          "pie": [
           {
            "automargin": true,
            "type": "pie"
           }
          ],
          "scatter": [
           {
            "fillpattern": {
             "fillmode": "overlay",
             "size": 10,
             "solidity": 0.2
            },
            "type": "scatter"
           }
          ],
          "scatter3d": [
           {
            "line": {
             "colorbar": {
              "outlinewidth": 0,
              "ticks": ""
             }
            },
            "marker": {
             "colorbar": {
              "outlinewidth": 0,
              "ticks": ""
             }
            },
            "type": "scatter3d"
           }
          ],
          "scattercarpet": [
           {
            "marker": {
             "colorbar": {
              "outlinewidth": 0,
              "ticks": ""
             }
            },
            "type": "scattercarpet"
           }
          ],
          "scattergeo": [
           {
            "marker": {
             "colorbar": {
              "outlinewidth": 0,
              "ticks": ""
             }
            },
            "type": "scattergeo"
           }
          ],
          "scattergl": [
           {
            "marker": {
             "colorbar": {
              "outlinewidth": 0,
              "ticks": ""
             }
            },
            "type": "scattergl"
           }
          ],
          "scattermapbox": [
           {
            "marker": {
             "colorbar": {
              "outlinewidth": 0,
              "ticks": ""
             }
            },
            "type": "scattermapbox"
           }
          ],
          "scatterpolar": [
           {
            "marker": {
             "colorbar": {
              "outlinewidth": 0,
              "ticks": ""
             }
            },
            "type": "scatterpolar"
           }
          ],
          "scatterpolargl": [
           {
            "marker": {
             "colorbar": {
              "outlinewidth": 0,
              "ticks": ""
             }
            },
            "type": "scatterpolargl"
           }
          ],
          "scatterternary": [
           {
            "marker": {
             "colorbar": {
              "outlinewidth": 0,
              "ticks": ""
             }
            },
            "type": "scatterternary"
           }
          ],
          "surface": [
           {
            "colorbar": {
             "outlinewidth": 0,
             "ticks": ""
            },
            "colorscale": [
             [
              0,
              "#0d0887"
             ],
             [
              0.1111111111111111,
              "#46039f"
             ],
             [
              0.2222222222222222,
              "#7201a8"
             ],
             [
              0.3333333333333333,
              "#9c179e"
             ],
             [
              0.4444444444444444,
              "#bd3786"
             ],
             [
              0.5555555555555556,
              "#d8576b"
             ],
             [
              0.6666666666666666,
              "#ed7953"
             ],
             [
              0.7777777777777778,
              "#fb9f3a"
             ],
             [
              0.8888888888888888,
              "#fdca26"
             ],
             [
              1,
              "#f0f921"
             ]
            ],
            "type": "surface"
           }
          ],
          "table": [
           {
            "cells": {
             "fill": {
              "color": "#EBF0F8"
             },
             "line": {
              "color": "white"
             }
            },
            "header": {
             "fill": {
              "color": "#C8D4E3"
             },
             "line": {
              "color": "white"
             }
            },
            "type": "table"
           }
          ]
         },
         "layout": {
          "annotationdefaults": {
           "arrowcolor": "#2a3f5f",
           "arrowhead": 0,
           "arrowwidth": 1
          },
          "autotypenumbers": "strict",
          "coloraxis": {
           "colorbar": {
            "outlinewidth": 0,
            "ticks": ""
           }
          },
          "colorscale": {
           "diverging": [
            [
             0,
             "#8e0152"
            ],
            [
             0.1,
             "#c51b7d"
            ],
            [
             0.2,
             "#de77ae"
            ],
            [
             0.3,
             "#f1b6da"
            ],
            [
             0.4,
             "#fde0ef"
            ],
            [
             0.5,
             "#f7f7f7"
            ],
            [
             0.6,
             "#e6f5d0"
            ],
            [
             0.7,
             "#b8e186"
            ],
            [
             0.8,
             "#7fbc41"
            ],
            [
             0.9,
             "#4d9221"
            ],
            [
             1,
             "#276419"
            ]
           ],
           "sequential": [
            [
             0,
             "#0d0887"
            ],
            [
             0.1111111111111111,
             "#46039f"
            ],
            [
             0.2222222222222222,
             "#7201a8"
            ],
            [
             0.3333333333333333,
             "#9c179e"
            ],
            [
             0.4444444444444444,
             "#bd3786"
            ],
            [
             0.5555555555555556,
             "#d8576b"
            ],
            [
             0.6666666666666666,
             "#ed7953"
            ],
            [
             0.7777777777777778,
             "#fb9f3a"
            ],
            [
             0.8888888888888888,
             "#fdca26"
            ],
            [
             1,
             "#f0f921"
            ]
           ],
           "sequentialminus": [
            [
             0,
             "#0d0887"
            ],
            [
             0.1111111111111111,
             "#46039f"
            ],
            [
             0.2222222222222222,
             "#7201a8"
            ],
            [
             0.3333333333333333,
             "#9c179e"
            ],
            [
             0.4444444444444444,
             "#bd3786"
            ],
            [
             0.5555555555555556,
             "#d8576b"
            ],
            [
             0.6666666666666666,
             "#ed7953"
            ],
            [
             0.7777777777777778,
             "#fb9f3a"
            ],
            [
             0.8888888888888888,
             "#fdca26"
            ],
            [
             1,
             "#f0f921"
            ]
           ]
          },
          "colorway": [
           "#636efa",
           "#EF553B",
           "#00cc96",
           "#ab63fa",
           "#FFA15A",
           "#19d3f3",
           "#FF6692",
           "#B6E880",
           "#FF97FF",
           "#FECB52"
          ],
          "font": {
           "color": "#2a3f5f"
          },
          "geo": {
           "bgcolor": "white",
           "lakecolor": "white",
           "landcolor": "#E5ECF6",
           "showlakes": true,
           "showland": true,
           "subunitcolor": "white"
          },
          "hoverlabel": {
           "align": "left"
          },
          "hovermode": "closest",
          "mapbox": {
           "style": "light"
          },
          "paper_bgcolor": "white",
          "plot_bgcolor": "#E5ECF6",
          "polar": {
           "angularaxis": {
            "gridcolor": "white",
            "linecolor": "white",
            "ticks": ""
           },
           "bgcolor": "#E5ECF6",
           "radialaxis": {
            "gridcolor": "white",
            "linecolor": "white",
            "ticks": ""
           }
          },
          "scene": {
           "xaxis": {
            "backgroundcolor": "#E5ECF6",
            "gridcolor": "white",
            "gridwidth": 2,
            "linecolor": "white",
            "showbackground": true,
            "ticks": "",
            "zerolinecolor": "white"
           },
           "yaxis": {
            "backgroundcolor": "#E5ECF6",
            "gridcolor": "white",
            "gridwidth": 2,
            "linecolor": "white",
            "showbackground": true,
            "ticks": "",
            "zerolinecolor": "white"
           },
           "zaxis": {
            "backgroundcolor": "#E5ECF6",
            "gridcolor": "white",
            "gridwidth": 2,
            "linecolor": "white",
            "showbackground": true,
            "ticks": "",
            "zerolinecolor": "white"
           }
          },
          "shapedefaults": {
           "line": {
            "color": "#2a3f5f"
           }
          },
          "ternary": {
           "aaxis": {
            "gridcolor": "white",
            "linecolor": "white",
            "ticks": ""
           },
           "baxis": {
            "gridcolor": "white",
            "linecolor": "white",
            "ticks": ""
           },
           "bgcolor": "#E5ECF6",
           "caxis": {
            "gridcolor": "white",
            "linecolor": "white",
            "ticks": ""
           }
          },
          "title": {
           "x": 0.05
          },
          "xaxis": {
           "automargin": true,
           "gridcolor": "white",
           "linecolor": "white",
           "ticks": "",
           "title": {
            "standoff": 15
           },
           "zerolinecolor": "white",
           "zerolinewidth": 2
          },
          "yaxis": {
           "automargin": true,
           "gridcolor": "white",
           "linecolor": "white",
           "ticks": "",
           "title": {
            "standoff": 15
           },
           "zerolinecolor": "white",
           "zerolinewidth": 2
          }
         }
        },
        "title": {
         "text": "Box plot of total bill"
        },
        "xaxis": {
         "anchor": "y",
         "categoryarray": [
          null,
          2,
          3,
          1
         ],
         "categoryorder": "array",
         "domain": [
          0,
          1
         ],
         "title": {
          "text": "firm_type"
         }
        },
        "yaxis": {
         "anchor": "x",
         "domain": [
          0,
          1
         ],
         "title": {
          "text": "primary_paid"
         }
        }
       }
      }
     },
     "metadata": {},
     "output_type": "display_data"
    }
   ],
   "source": [
    "df = pd.read_excel('parental leave data.xlsx', index_col='index_col')\n",
    "fig = px.box(df, x=\"firm_type\", y=\"primary_paid\", color=\"firm_type\",\n",
    "             title=\"Box plot of total bill\",\n",
    "             hover_data=[\"firm\"] # add day column to hover data\n",
    "            )\n",
    "fig.show()"
   ]
  },
  {
   "cell_type": "code",
   "execution_count": 4,
   "metadata": {},
   "outputs": [
    {
     "ename": "TypeError",
     "evalue": "Figure.add_trace() got an unexpected keyword argument 'points'",
     "output_type": "error",
     "traceback": [
      "\u001b[0;31m---------------------------------------------------------------------------\u001b[0m",
      "\u001b[0;31mTypeError\u001b[0m                                 Traceback (most recent call last)",
      "Cell \u001b[0;32mIn[4], line 8\u001b[0m\n\u001b[1;32m      5\u001b[0m y2 \u001b[38;5;241m=\u001b[39m df\n\u001b[1;32m      7\u001b[0m fig \u001b[38;5;241m=\u001b[39m go\u001b[38;5;241m.\u001b[39mFigure()\n\u001b[0;32m----> 8\u001b[0m fig\u001b[38;5;241m.\u001b[39madd_trace(go\u001b[38;5;241m.\u001b[39mBox(y\u001b[38;5;241m=\u001b[39my0), points \u001b[38;5;241m=\u001b[39m \u001b[38;5;124m'\u001b[39m\u001b[38;5;124mall\u001b[39m\u001b[38;5;124m'\u001b[39m)\n\u001b[1;32m      9\u001b[0m fig\u001b[38;5;241m.\u001b[39madd_trace(go\u001b[38;5;241m.\u001b[39mBox(y\u001b[38;5;241m=\u001b[39my1))\n\u001b[1;32m     11\u001b[0m fig\u001b[38;5;241m.\u001b[39mshow()\n",
      "\u001b[0;31mTypeError\u001b[0m: Figure.add_trace() got an unexpected keyword argument 'points'"
     ]
    }
   ],
   "source": [
    "plot_var = 'primary_paid'\n",
    "\n",
    "y0 = df[plot_var][df['firm_type']==1]\n",
    "y1 = df[plot_var][df['firm_type']==2]\n",
    "\n",
    "fig = go.Figure()\n",
    "fig.add_trace(go.Box(y=y0), points = 'all')\n",
    "fig.add_trace(go.Box(y=y1))\n",
    "\n",
    "fig.show()"
   ]
  }
 ],
 "metadata": {
  "kernelspec": {
   "display_name": "tides",
   "language": "python",
   "name": "python3"
  },
  "language_info": {
   "codemirror_mode": {
    "name": "ipython",
    "version": 3
   },
   "file_extension": ".py",
   "mimetype": "text/x-python",
   "name": "python",
   "nbconvert_exporter": "python",
   "pygments_lexer": "ipython3",
   "version": "3.12.4"
  }
 },
 "nbformat": 4,
 "nbformat_minor": 2
}
